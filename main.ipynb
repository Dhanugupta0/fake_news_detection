{
 "cells": [
  {
   "cell_type": "code",
   "execution_count": 2,
   "id": "8b612099",
   "metadata": {},
   "outputs": [
    {
     "name": "stdout",
     "output_type": "stream",
     "text": [
      "           0            1                                                  2   \\\n",
      "0   2635.json        false  Says the Annies List political group supports ...   \n",
      "1  10540.json    half-true  When did the decline of coal start? It started...   \n",
      "2    324.json  mostly-true  Hillary Clinton agrees with John McCain \"by vo...   \n",
      "3   1123.json        false  Health care reform legislation is likely to ma...   \n",
      "4   9028.json    half-true  The economic turnaround started at the end of ...   \n",
      "\n",
      "                                   3               4                     5   \\\n",
      "0                            abortion    dwayne-bohac  State representative   \n",
      "1  energy,history,job-accomplishments  scott-surovell        State delegate   \n",
      "2                      foreign-policy    barack-obama             President   \n",
      "3                         health-care    blog-posting                   NaN   \n",
      "4                        economy,jobs   charlie-crist                   NaN   \n",
      "\n",
      "         6           7     8     9      10     11    12                   13  \n",
      "0     Texas  republican   0.0   1.0    0.0    0.0   0.0             a mailer  \n",
      "1  Virginia    democrat   0.0   0.0    1.0    1.0   0.0      a floor speech.  \n",
      "2  Illinois    democrat  70.0  71.0  160.0  163.0   9.0               Denver  \n",
      "3       NaN        none   7.0  19.0    3.0    5.0  44.0       a news release  \n",
      "4   Florida    democrat  15.0   9.0   20.0   19.0   2.0  an interview on CNN  \n",
      "(10240, 14)\n"
     ]
    }
   ],
   "source": [
    "import pandas as pd\n",
    "\n",
    "# Load TSV file\n",
    "df = pd.read_csv(\"liar_dataset/train.tsv\", sep=\"\\t\", header=None)\n",
    "\n",
    "# Show first rows\n",
    "print(df.head())\n",
    "print(df.shape)\n"
   ]
  },
  {
   "cell_type": "code",
   "execution_count": null,
   "id": "38c83f1f",
   "metadata": {},
   "outputs": [
    {
     "name": "stdout",
     "output_type": "stream",
     "text": [
      "           id        label                                          statement  \\\n",
      "0   2635.json        false  Says the Annies List political group supports ...   \n",
      "1  10540.json    half-true  When did the decline of coal start? It started...   \n",
      "2    324.json  mostly-true  Hillary Clinton agrees with John McCain \"by vo...   \n",
      "3   1123.json        false  Health care reform legislation is likely to ma...   \n",
      "4   9028.json    half-true  The economic turnaround started at the end of ...   \n",
      "\n",
      "                              subject         speaker             job_title  \\\n",
      "0                            abortion    dwayne-bohac  State representative   \n",
      "1  energy,history,job-accomplishments  scott-surovell        State delegate   \n",
      "2                      foreign-policy    barack-obama             President   \n",
      "3                         health-care    blog-posting                   NaN   \n",
      "4                        economy,jobs   charlie-crist                   NaN   \n",
      "\n",
      "  state_info       party  barely_true_counts  false_counts  half_true_counts  \\\n",
      "0      Texas  republican                 0.0           1.0               0.0   \n",
      "1   Virginia    democrat                 0.0           0.0               1.0   \n",
      "2   Illinois    democrat                70.0          71.0             160.0   \n",
      "3        NaN        none                 7.0          19.0               3.0   \n",
      "4    Florida    democrat                15.0           9.0              20.0   \n",
      "\n",
      "   mostly_true_counts  pants_on_fire_counts              context  \n",
      "0                 0.0                   0.0             a mailer  \n",
      "1                 1.0                   0.0      a floor speech.  \n",
      "2               163.0                   9.0               Denver  \n",
      "3                 5.0                  44.0       a news release  \n",
      "4                19.0                   2.0  an interview on CNN  \n"
     ]
    }
   ],
   "source": [
    "df.columns = [\n",
    "    \"id\", \"label\", \"statement\", \"subject\", \n",
    "    \"speaker\", \"job_title\", \"state_info\", \"party\", \n",
    "    \"barely_true_counts\", \"false_counts\", \"half_true_counts\", \n",
    "    \"mostly_true_counts\", \"pants_on_fire_counts\", \"context\"\n",
    "]"
   ]
  },
  {
   "cell_type": "code",
   "execution_count": 5,
   "id": "32ee1e5b",
   "metadata": {},
   "outputs": [
    {
     "name": "stdout",
     "output_type": "stream",
     "text": [
      "           id        label                                          statement  \\\n",
      "0   2635.json        false  Says the Annies List political group supports ...   \n",
      "1  10540.json    half-true  When did the decline of coal start? It started...   \n",
      "2    324.json  mostly-true  Hillary Clinton agrees with John McCain \"by vo...   \n",
      "3   1123.json        false  Health care reform legislation is likely to ma...   \n",
      "4   9028.json    half-true  The economic turnaround started at the end of ...   \n",
      "\n",
      "                              subject         speaker             job_title  \\\n",
      "0                            abortion    dwayne-bohac  State representative   \n",
      "1  energy,history,job-accomplishments  scott-surovell        State delegate   \n",
      "2                      foreign-policy    barack-obama             President   \n",
      "3                         health-care    blog-posting                   NaN   \n",
      "4                        economy,jobs   charlie-crist                   NaN   \n",
      "\n",
      "  state_info       party  barely_true_counts  false_counts  half_true_counts  \\\n",
      "0      Texas  republican                 0.0           1.0               0.0   \n",
      "1   Virginia    democrat                 0.0           0.0               1.0   \n",
      "2   Illinois    democrat                70.0          71.0             160.0   \n",
      "3        NaN        none                 7.0          19.0               3.0   \n",
      "4    Florida    democrat                15.0           9.0              20.0   \n",
      "\n",
      "   mostly_true_counts  pants_on_fire_counts              context  \n",
      "0                 0.0                   0.0             a mailer  \n",
      "1                 1.0                   0.0      a floor speech.  \n",
      "2               163.0                   9.0               Denver  \n",
      "3                 5.0                  44.0       a news release  \n",
      "4                19.0                   2.0  an interview on CNN  \n",
      "(10240, 14)\n",
      "label\n",
      "half-true      2114\n",
      "false          1995\n",
      "mostly-true    1962\n",
      "true           1676\n",
      "barely-true    1654\n",
      "pants-fire      839\n",
      "Name: count, dtype: int64\n"
     ]
    }
   ],
   "source": [
    "print(df.head())\n",
    "print(df.shape)          # should be (10240, 14)\n",
    "print(df[\"label\"].value_counts())\n"
   ]
  },
  {
   "cell_type": "code",
   "execution_count": null,
   "id": "64000360",
   "metadata": {},
   "outputs": [],
   "source": []
  },
  {
   "cell_type": "code",
   "execution_count": null,
   "id": "d4237923",
   "metadata": {},
   "outputs": [],
   "source": []
  },
  {
   "cell_type": "code",
   "execution_count": null,
   "id": "cd9a7508",
   "metadata": {},
   "outputs": [],
   "source": []
  }
 ],
 "metadata": {
  "kernelspec": {
   "display_name": "liar_env",
   "language": "python",
   "name": "python3"
  },
  "language_info": {
   "codemirror_mode": {
    "name": "ipython",
    "version": 3
   },
   "file_extension": ".py",
   "mimetype": "text/x-python",
   "name": "python",
   "nbconvert_exporter": "python",
   "pygments_lexer": "ipython3",
   "version": "3.12.3"
  }
 },
 "nbformat": 4,
 "nbformat_minor": 5
}
